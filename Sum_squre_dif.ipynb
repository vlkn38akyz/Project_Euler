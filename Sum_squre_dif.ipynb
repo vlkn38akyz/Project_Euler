{
 "cells": [
  {
   "cell_type": "markdown",
   "metadata": {},
   "source": [
    "The sum of the squares of the first ten natural numbers is,\n",
    "   \n",
    "1^2 +2^2+....10^2 =385\n",
    "The square of the sum of the first ten natural numbers is,\n",
    "(1+2+....10)^2 =55^2=3025\n",
    "Hence the difference between the sum of the squares of the first ten natural numbers and the square of the sum is .\n",
    "325-385 = 2640\n",
    "Find the difference between the sum of the squares of the first one hundred natural numbers and the square of the sum."
   ]
  },
  {
   "cell_type": "markdown",
   "metadata": {},
   "source": []
  },
  {
   "cell_type": "code",
   "execution_count": 34,
   "metadata": {},
   "outputs": [
    {
     "name": "stdout",
     "output_type": "stream",
     "text": [
      "338350\n"
     ]
    }
   ],
   "source": [
    "sum_square = []\n",
    "sum_natural = 0\n",
    "def fark(num):\n",
    "    for i in range(1,num+1):\n",
    "         sum_square.append(pow(i,2))\n",
    "        \n",
    "fark(100)       \n",
    "print(sum(sum_square))"
   ]
  },
  {
   "cell_type": "code",
   "execution_count": 53,
   "metadata": {},
   "outputs": [
    {
     "name": "stdout",
     "output_type": "stream",
     "text": [
      "25164150\n"
     ]
    }
   ],
   "source": [
    "sum_square = []\n",
    "sum_natural = []\n",
    "def fark(num):\n",
    "    for i in range(1,num+1):\n",
    "         sum_square.append(pow(i,2))         \n",
    "         sum_natural.append(i)\n",
    "fark(100)      \n",
    "print(pow(sum(sum_natural),2)- sum(sum_square))"
   ]
  },
  {
   "cell_type": "code",
   "execution_count": 59,
   "metadata": {},
   "outputs": [
    {
     "name": "stdout",
     "output_type": "stream",
     "text": [
      "25164150\n"
     ]
    }
   ],
   "source": [
    "r = range(1, 101)\n",
    "a = sum(r)\n",
    "print (a * a - sum(i*i for i in r))"
   ]
  },
  {
   "cell_type": "code",
   "execution_count": 60,
   "metadata": {},
   "outputs": [
    {
     "name": "stdout",
     "output_type": "stream",
     "text": [
      "25164150\n"
     ]
    }
   ],
   "source": [
    "sequence = range(1, 101)\n",
    "sum_of_squares = sum([i**2 for i in sequence])\n",
    "square_of_sum = sum(sequence)**2\n",
    "print(square_of_sum - sum_of_squares)"
   ]
  }
 ],
 "metadata": {
  "interpreter": {
   "hash": "ae9bbdf5a265dc4899e37344451b224f55c9a725d061afcaebf0ec36b6189218"
  },
  "kernelspec": {
   "display_name": "Python 3.9.7 ('base')",
   "language": "python",
   "name": "python3"
  },
  "language_info": {
   "name": "python",
   "version": "3.9.7"
  },
  "orig_nbformat": 4
 },
 "nbformat": 4,
 "nbformat_minor": 2
}
