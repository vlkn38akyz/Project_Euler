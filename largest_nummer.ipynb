{
 "cells": [
  {
   "cell_type": "markdown",
   "metadata": {},
   "source": [
    "Write a python code that finds the largest number among the 5 numbers given by the user as input.\n",
    "\n",
    "It is forbidden to use max() function.\n",
    "\n",
    "Indicate which computational thinking concepts have you used.\n",
    "\n",
    "Example for user inputs and respective outputs\n",
    "\n",
    "Input            Output\n",
    "------------     ------\n",
    "1 2 3 4 5         5\n",
    "67 85 19 39       85"
   ]
  },
  {
   "cell_type": "code",
   "execution_count": 3,
   "metadata": {},
   "outputs": [
    {
     "name": "stdout",
     "output_type": "stream",
     "text": [
      "52\n",
      "[23, 45, 32, 12, 52]\n"
     ]
    }
   ],
   "source": [
    "num1 = int(input()) \n",
    "num2 = int(input()) \n",
    "num3 = int(input()) \n",
    "num4 = int(input()) \n",
    "num5 = int(input()) \n",
    "\n",
    "list = [num1,num2,num3,num4,num5]\n",
    "maxnum = num1\n",
    "for i in list:\n",
    "    if i >= maxnum:\n",
    "        maxnum=i\n",
    "\n",
    "\n",
    "print(maxnum)\n",
    "print(list)"
   ]
  }
 ],
 "metadata": {
  "kernelspec": {
   "display_name": "Python 3.9.7 ('base')",
   "language": "python",
   "name": "python3"
  },
  "language_info": {
   "codemirror_mode": {
    "name": "ipython",
    "version": 3
   },
   "file_extension": ".py",
   "mimetype": "text/x-python",
   "name": "python",
   "nbconvert_exporter": "python",
   "pygments_lexer": "ipython3",
   "version": "3.9.7"
  },
  "orig_nbformat": 4,
  "vscode": {
   "interpreter": {
    "hash": "a0b6acb9364352c0ba0d51043ad919911d427d5d94e8ff6c7b814831f2811fe3"
   }
  }
 },
 "nbformat": 4,
 "nbformat_minor": 2
}
