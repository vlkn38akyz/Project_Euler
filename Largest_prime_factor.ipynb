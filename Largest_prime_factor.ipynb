{
 "cells": [
  {
   "cell_type": "code",
   "execution_count": null,
   "metadata": {},
   "outputs": [],
   "source": [
    "The prime factors of 13195 are 5, 7, 13 and 29.\n",
    "\n",
    "What is the largest prime factor of the number 600851475143 ?"
   ]
  },
  {
   "cell_type": "code",
   "execution_count": 55,
   "metadata": {},
   "outputs": [
    {
     "name": "stdout",
     "output_type": "stream",
     "text": [
      "\n",
      "29\n"
     ]
    }
   ],
   "source": [
    "number = int(input())\n",
    "prime_factors = []\n",
    "cözüm = []\n",
    "a = 2\n",
    "for a in range(1,number) :\n",
    "    if number%a==0:\n",
    "        prime_factors.append(a)   \n",
    "        a += 1\n",
    "       \n",
    "\n",
    "#print(prime_factors)\n",
    "for i in prime_factors:\n",
    "    if i > 1:\n",
    "        for k in range(2,i):\n",
    "            if (i % k) == 0:\n",
    "              #print(i,\" Asal Sayı Değildir.\")\n",
    "              break\n",
    "        else:\n",
    "            cözüm.append(i)\n",
    " \n",
    "    else:\n",
    "        print()\n",
    "print(max(cözüm))  "
   ]
  }
 ],
 "metadata": {
  "interpreter": {
   "hash": "ae9bbdf5a265dc4899e37344451b224f55c9a725d061afcaebf0ec36b6189218"
  },
  "kernelspec": {
   "display_name": "Python 3.9.7 ('base')",
   "language": "python",
   "name": "python3"
  },
  "language_info": {
   "codemirror_mode": {
    "name": "ipython",
    "version": 3
   },
   "file_extension": ".py",
   "mimetype": "text/x-python",
   "name": "python",
   "nbconvert_exporter": "python",
   "pygments_lexer": "ipython3",
   "version": "3.9.7"
  },
  "orig_nbformat": 4
 },
 "nbformat": 4,
 "nbformat_minor": 2
}
